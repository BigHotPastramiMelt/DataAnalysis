{
 "cells": [
  {
   "cell_type": "code",
   "execution_count": null,
   "metadata": {
    "collapsed": false
   },
   "outputs": [],
   "source": [
    "#C:\\Users\\patrick.carey\\Desktop\\wcai\\pos_ordersale_FAF_CHICAGO.csv\n",
    "#C:\\Users\\patrick.carey\\Desktop\\wcai\\pos_payment.csv\n",
    "#C:\\Users\\patrick.carey\\Desktop\\wcai\\pos_promotion.csv\n",
    "file = input(\"Full path of file to read: \") \n",
    "fileWrite = file[0:-4] + \"_sample.csv\"\n",
    "endCount = eval(input(\"how many lines do you want?\")) \n",
    "count =0\n",
    "with open(file, 'r') as f:\n",
    "    with open(fileWrite, 'a') as newf:\n",
    "        line = f.readline()\n",
    "        while line:\n",
    "            count += 1\n",
    "            if count == endCount:\n",
    "                break\n",
    "            newf.write(line)\n",
    "            line = f.readline()\n",
    "print(\"File Created\")"
   ]
  },
  {
   "cell_type": "code",
   "execution_count": null,
   "metadata": {
    "collapsed": true
   },
   "outputs": [],
   "source": []
  }
 ],
 "metadata": {
  "kernelspec": {
   "display_name": "Python 3",
   "language": "python",
   "name": "python3"
  },
  "language_info": {
   "codemirror_mode": {
    "name": "ipython",
    "version": 3
   },
   "file_extension": ".py",
   "mimetype": "text/x-python",
   "name": "python",
   "nbconvert_exporter": "python",
   "pygments_lexer": "ipython3",
   "version": "3.5.1"
  }
 },
 "nbformat": 4,
 "nbformat_minor": 0
}

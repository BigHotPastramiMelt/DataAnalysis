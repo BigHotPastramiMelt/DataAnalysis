{
 "cells": [
  {
   "cell_type": "code",
   "execution_count": 1,
   "metadata": {
    "collapsed": false
   },
   "outputs": [
    {
     "data": {
      "text/plain": [
       "u'C:\\\\Users\\\\han'"
      ]
     },
     "execution_count": 1,
     "metadata": {},
     "output_type": "execute_result"
    }
   ],
   "source": [
    "pwd"
   ]
  },
  {
   "cell_type": "code",
   "execution_count": 2,
   "metadata": {
    "collapsed": false
   },
   "outputs": [
    {
     "name": "stdout",
     "output_type": "stream",
     "text": [
      "C:\\Users\\han\\Documents\\WRDS_Drivers\n"
     ]
    }
   ],
   "source": [
    "cd C:\\Users\\han\\Documents\\WRDS_Drivers"
   ]
  },
  {
   "cell_type": "code",
   "execution_count": 3,
   "metadata": {
    "collapsed": true
   },
   "outputs": [],
   "source": [
    "import pandas as pd\n",
    "%matplotlib inline\n",
    "import matplotlib.pyplot as plt\n",
    "import numpy as np"
   ]
  },
  {
   "cell_type": "markdown",
   "metadata": {},
   "source": [
    "creating a Data Frame that contains Sum of each day, transactions count"
   ]
  },
  {
   "cell_type": "code",
   "execution_count": 9,
   "metadata": {
    "collapsed": false
   },
   "outputs": [
    {
     "data": {
      "text/plain": [
       "array([(0.18, '01/01/2014'), (0.0, '01/01/2014'), (0.38, '01/01/2014'),\n",
       "       ..., (0.52, '01/31/2014'), (1.0, '01/31/2014'), (0.46, '01/31/2014')], \n",
       "      dtype=[('TaxAmount', '<f8'), ('date', 'S10')])"
      ]
     },
     "execution_count": 9,
     "metadata": {},
     "output_type": "execute_result"
    }
   ],
   "source": [
    "####test on the numpy reading pos chicago ordersale, \n",
    "chi=np.genfromtxt('CHI.csv', delimiter=\",\", names=True,dtype=None, usecols=(15, -1))\n",
    "chi"
   ]
  },
  {
   "cell_type": "code",
   "execution_count": 6,
   "metadata": {
    "collapsed": false
   },
   "outputs": [
    {
     "data": {
      "text/plain": [
       "array(['01/01/2014', '01/02/2014', '01/03/2014', '01/04/2014',\n",
       "       '01/05/2014', '01/06/2014', '01/07/2014', '01/08/2014',\n",
       "       '01/09/2014', '01/10/2014', '01/11/2014', '01/12/2014',\n",
       "       '01/13/2014', '01/14/2014', '01/15/2014', '01/16/2014',\n",
       "       '01/17/2014', '01/18/2014', '01/19/2014', '01/20/2014',\n",
       "       '01/21/2014', '01/22/2014', '01/23/2014', '01/24/2014',\n",
       "       '01/25/2014', '01/26/2014', '01/27/2014', '01/28/2014',\n",
       "       '01/29/2014', '01/30/2014', '01/31/2014'], \n",
       "      dtype='|S10')"
      ]
     },
     "execution_count": 6,
     "metadata": {},
     "output_type": "execute_result"
    }
   ],
   "source": [
    "dates=np.unique(chi['date']) #create an array for each day\n",
    "dates"
   ]
  },
  {
   "cell_type": "code",
   "execution_count": 8,
   "metadata": {
    "collapsed": false
   },
   "outputs": [],
   "source": [
    "df=np.zeros([2,len(dates)]) # create 2 * 31  data frame with all 0"
   ]
  },
  {
   "cell_type": "code",
   "execution_count": 12,
   "metadata": {
    "collapsed": false
   },
   "outputs": [],
   "source": [
    "#go throgh all dates, and sum up the same date tax\n",
    "for i in range(len(chi)): \n",
    "    for j in range(len(dates)):\n",
    "        if chi['date'][i]==dates[j]:\n",
    "            df[0][j]+=chi['TaxAmount'][i]\n",
    "            df[1][j]+=1\n",
    "#### think there should be a better way to do this"
   ]
  },
  {
   "cell_type": "code",
   "execution_count": 14,
   "metadata": {
    "collapsed": false
   },
   "outputs": [],
   "source": [
    "jan=df.T"
   ]
  },
  {
   "cell_type": "code",
   "execution_count": 15,
   "metadata": {
    "collapsed": false
   },
   "outputs": [
    {
     "data": {
      "text/plain": [
       "2532.2999999999984"
      ]
     },
     "execution_count": 15,
     "metadata": {},
     "output_type": "execute_result"
    }
   ],
   "source": [
    "sum(chi['TaxAmount'][chi['date']=='01/01/2014']) #confriming to see if we get the right amount"
   ]
  },
  {
   "cell_type": "code",
   "execution_count": 16,
   "metadata": {
    "collapsed": false
   },
   "outputs": [
    {
     "name": "stdout",
     "output_type": "stream",
     "text": [
      "[[  2532.3    4424.  ]\n",
      " [  6608.1   11409.  ]\n",
      " [  8379.23  13981.  ]\n",
      " [  7016.27  10943.  ]\n",
      " [  3539.9    5222.  ]\n",
      " [  3302.91   5252.  ]\n",
      " [  6831.66  11067.  ]\n",
      " [  8377.24  14390.  ]\n",
      " [  9107.97  15432.  ]\n",
      " [  9357.73  15942.  ]\n",
      " [  8491.24  13042.  ]\n",
      " [  6715.95   9945.  ]\n",
      " [  9203.38  16176.  ]\n",
      " [  8484.48  14871.  ]\n",
      " [  9135.86  15976.  ]\n",
      " [  9595.03  16614.  ]\n",
      " [  9742.81  16728.  ]\n",
      " [  7731.05  11946.  ]\n",
      " [  6428.41   9662.  ]\n",
      " [  8671.21  14721.  ]\n",
      " [  7857.94  13765.  ]\n",
      " [  8433.2   14811.  ]\n",
      " [  8846.73  15289.  ]\n",
      " [  9258.73  15760.  ]\n",
      " [  7980.35  12248.  ]\n",
      " [  6118.68   9208.  ]\n",
      " [  6493.34  11098.  ]\n",
      " [  7217.95  12234.  ]\n",
      " [  9619.88  16916.  ]\n",
      " [ 10158.99  17647.  ]\n",
      " [ 11393.97  19711.  ]]\n"
     ]
    }
   ],
   "source": [
    "print(jan) # each row = date, first column: the sum of the tax for that day, 2nd column: total transaction for that day "
   ]
  },
  {
   "cell_type": "code",
   "execution_count": 21,
   "metadata": {
    "collapsed": true
   },
   "outputs": [],
   "source": [
    "def pred(n, y): # create function that ask for n days, and the DF and spit out the average tax on n days\n",
    "    x=sum(y[0:(n+1),0])/n\n",
    "    print x"
   ]
  },
  {
   "cell_type": "code",
   "execution_count": 23,
   "metadata": {
    "collapsed": false
   },
   "outputs": [
    {
     "name": "stdout",
     "output_type": "stream",
     "text": [
      "8178.63333333\n"
     ]
    }
   ],
   "source": [
    "x=pred(3,jan)\n"
   ]
  },
  {
   "cell_type": "code",
   "execution_count": 26,
   "metadata": {
    "collapsed": false
   },
   "outputs": [
    {
     "data": {
      "text/plain": [
       "8178.6333333333823"
      ]
     },
     "execution_count": 26,
     "metadata": {},
     "output_type": "execute_result"
    }
   ],
   "source": [
    "sum(jan[0:4,0])/3"
   ]
  }
 ],
 "metadata": {
  "kernelspec": {
   "display_name": "Python 2",
   "language": "python",
   "name": "python2"
  },
  "language_info": {
   "codemirror_mode": {
    "name": "ipython",
    "version": 2
   },
   "file_extension": ".py",
   "mimetype": "text/x-python",
   "name": "python",
   "nbconvert_exporter": "python",
   "pygments_lexer": "ipython2",
   "version": "2.7.10"
  }
 },
 "nbformat": 4,
 "nbformat_minor": 0
}

{
 "cells": [
  {
   "cell_type": "code",
   "execution_count": 1,
   "metadata": {
    "collapsed": false
   },
   "outputs": [
    {
     "data": {
      "text/plain": [
       "u'C:\\\\Users\\\\Amy\\\\Anaconda'"
      ]
     },
     "execution_count": 1,
     "metadata": {},
     "output_type": "execute_result"
    }
   ],
   "source": [
    "pwd|"
   ]
  },
  {
   "cell_type": "code",
   "execution_count": 2,
   "metadata": {
    "collapsed": false
   },
   "outputs": [
    {
     "name": "stdout",
     "output_type": "stream",
     "text": [
      "C:\\Users\\Amy\\Google Drive\\WCAI Research Project\\POS\n"
     ]
    }
   ],
   "source": [
    "cd C:\\Users\\Amy\\Google Drive\\WCAI Research Project\\POS\\"
   ]
  },
  {
   "cell_type": "code",
   "execution_count": 3,
   "metadata": {
    "collapsed": false
   },
   "outputs": [],
   "source": [
    "import pandas as pd\n",
    "%matplotlib inline\n",
    "import matplotlib.pyplot as plt\n",
    "import numpy as np\n",
    "import pickle"
   ]
  },
  {
   "cell_type": "markdown",
   "metadata": {},
   "source": [
    "# Create a dataframe that contains some # (e.g. # transactions) for each date. The dataframe will also include a column with the normalized value of the # (e.g. # transactions per store)."
   ]
  },
  {
   "cell_type": "code",
   "execution_count": 5,
   "metadata": {
    "collapsed": false
   },
   "outputs": [],
   "source": [
    "# import dataset as an array\n",
    "houarray=np.genfromtxt('HOUPOSJulDec2013.csv', delimiter=\",\", names=True,dtype=None, usecols=(0,-2, -1))\n",
    "# usecols -> enter column numbers needed for target data (e.g. column 0 is MD5KEY_ORDERSALE, -1 is the date, -2 is STORE_SAT_NUMBER)\n",
    "\n",
    "# In this example, we are importing the csv with Houston's POS_Ordersale Jul-Dec 2013."
   ]
  },
  {
   "cell_type": "code",
   "execution_count": 6,
   "metadata": {
    "collapsed": false
   },
   "outputs": [
    {
     "data": {
      "text/plain": [
       "546391"
      ]
     },
     "execution_count": 6,
     "metadata": {},
     "output_type": "execute_result"
    }
   ],
   "source": [
    "len(houarray)# number of rows (i.e. transactions)"
   ]
  },
  {
   "cell_type": "code",
   "execution_count": 7,
   "metadata": {
    "collapsed": false,
    "scrolled": true
   },
   "outputs": [
    {
     "data": {
      "text/plain": [
       "array(['07/01/2013', '07/02/2013', '07/03/2013', '07/04/2013',\n",
       "       '07/05/2013', '07/06/2013', '07/07/2013', '07/08/2013',\n",
       "       '07/09/2013', '07/10/2013', '07/11/2013', '07/12/2013',\n",
       "       '07/13/2013', '07/14/2013', '07/15/2013', '07/16/2013',\n",
       "       '07/17/2013', '07/18/2013', '07/19/2013', '07/20/2013',\n",
       "       '07/21/2013', '07/22/2013', '07/23/2013', '07/24/2013',\n",
       "       '07/25/2013', '07/26/2013', '07/27/2013', '07/28/2013',\n",
       "       '07/29/2013', '07/30/2013', '07/31/2013', '08/01/2013',\n",
       "       '08/02/2013', '08/03/2013', '08/04/2013', '08/05/2013',\n",
       "       '08/06/2013', '08/07/2013', '08/08/2013', '08/09/2013',\n",
       "       '08/10/2013', '08/11/2013', '08/12/2013', '08/13/2013',\n",
       "       '08/14/2013', '08/15/2013', '08/16/2013', '08/17/2013',\n",
       "       '08/18/2013', '08/19/2013', '08/20/2013', '08/21/2013',\n",
       "       '08/22/2013', '08/23/2013', '08/24/2013', '08/25/2013',\n",
       "       '08/26/2013', '08/27/2013', '08/28/2013', '08/29/2013',\n",
       "       '08/30/2013', '08/31/2013', '09/01/2013', '09/02/2013',\n",
       "       '09/03/2013', '09/04/2013', '09/05/2013', '09/06/2013',\n",
       "       '09/07/2013', '09/08/2013', '09/09/2013', '09/10/2013',\n",
       "       '09/11/2013', '09/12/2013', '09/13/2013', '09/14/2013',\n",
       "       '09/15/2013', '09/16/2013', '09/17/2013', '09/18/2013',\n",
       "       '09/19/2013', '09/20/2013', '09/21/2013', '09/22/2013',\n",
       "       '09/23/2013', '09/24/2013', '09/25/2013', '09/26/2013',\n",
       "       '09/27/2013', '09/28/2013', '09/29/2013', '09/30/2013',\n",
       "       '10/01/2013', '10/02/2013', '10/03/2013', '10/04/2013',\n",
       "       '10/05/2013', '10/06/2013', '10/07/2013', '10/08/2013',\n",
       "       '10/09/2013', '10/10/2013', '10/11/2013', '10/12/2013',\n",
       "       '10/13/2013', '10/14/2013', '10/15/2013', '10/16/2013',\n",
       "       '10/17/2013', '10/18/2013', '10/19/2013', '10/20/2013',\n",
       "       '10/21/2013', '10/22/2013', '10/23/2013', '10/24/2013',\n",
       "       '10/25/2013', '10/26/2013', '10/27/2013', '10/28/2013',\n",
       "       '10/29/2013', '10/30/2013', '10/31/2013', '11/01/2013',\n",
       "       '11/02/2013', '11/03/2013', '11/04/2013', '11/05/2013',\n",
       "       '11/06/2013', '11/07/2013', '11/08/2013', '11/09/2013',\n",
       "       '11/10/2013', '11/11/2013', '11/12/2013', '11/13/2013',\n",
       "       '11/14/2013', '11/15/2013', '11/16/2013', '11/17/2013',\n",
       "       '11/18/2013', '11/19/2013', '11/20/2013', '11/21/2013',\n",
       "       '11/22/2013', '11/23/2013', '11/24/2013', '11/25/2013',\n",
       "       '11/26/2013', '11/27/2013', '11/28/2013', '11/29/2013',\n",
       "       '11/30/2013', '12/01/2013', '12/02/2013', '12/03/2013',\n",
       "       '12/04/2013', '12/05/2013', '12/06/2013', '12/07/2013',\n",
       "       '12/08/2013', '12/09/2013', '12/10/2013', '12/11/2013',\n",
       "       '12/12/2013', '12/13/2013', '12/14/2013', '12/15/2013',\n",
       "       '12/16/2013', '12/17/2013', '12/18/2013', '12/19/2013',\n",
       "       '12/20/2013', '12/21/2013', '12/22/2013', '12/23/2013',\n",
       "       '12/24/2013', '12/25/2013', '12/26/2013', '12/27/2013',\n",
       "       '12/28/2013', '12/29/2013', '12/30/2013', '12/31/2013'], \n",
       "      dtype='|S10')"
      ]
     },
     "execution_count": 7,
     "metadata": {},
     "output_type": "execute_result"
    }
   ],
   "source": [
    "dates=np.unique(houarray['date']) #create an array that includes each day in the target timeframe \n",
    "dates"
   ]
  },
  {
   "cell_type": "code",
   "execution_count": 8,
   "metadata": {
    "collapsed": true
   },
   "outputs": [],
   "source": [
    "stores=houarray['STORE_SAT_NUMBER'] #create an array that includes all the STORE_SAT_NUMBER, should match len of dataset"
   ]
  },
  {
   "cell_type": "code",
   "execution_count": 9,
   "metadata": {
    "collapsed": false
   },
   "outputs": [
    {
     "name": "stdout",
     "output_type": "stream",
     "text": [
      "546391 37\n"
     ]
    }
   ],
   "source": [
    "print len(stores),len(np.unique(stores)) # len of stores array, number of unique STORE_SAT_NUMBER"
   ]
  },
  {
   "cell_type": "code",
   "execution_count": 10,
   "metadata": {
    "collapsed": false
   },
   "outputs": [],
   "source": [
    "# Create dictionary that will contain (date:some#) pairs (e.g. some# = # total trans for that day)\n",
    "# Also save this as a dataframe format so that dates can be manipulated. \n",
    "datesD={}\n",
    "for i in range(len(houarray)):\n",
    "    if datesD.get(houarray['date'][i],0)==0: \n",
    "        datesD[houarray['date'][i]]=1\n",
    "    else:\n",
    "        datesD[houarray['date'][i]]+=1\n",
    "datesframe=pd.DataFrame(datesD.items(),columns=['Date','numTrans'])"
   ]
  },
  {
   "cell_type": "code",
   "execution_count": 11,
   "metadata": {
    "collapsed": false
   },
   "outputs": [],
   "source": [
    "# Create dictionary that will contain (date: all unique SATstore# for that day) pairs\n",
    "storesD={}\n",
    "for i in range(len(houarray)):\n",
    "    if storesD.get((houarray['date'][i]),0)==0:\n",
    "        storesD[(houarray['date'][i])]=[]\n",
    "        storesD[(houarray['date'][i])].append(stores[i])\n",
    "    elif stores[i] not in storesD[houarray['date'][i]]:\n",
    "        storesD[(houarray['date'][i])].append(stores[i])"
   ]
  },
  {
   "cell_type": "code",
   "execution_count": 12,
   "metadata": {
    "collapsed": false
   },
   "outputs": [],
   "source": [
    "# Create dictionary that will contain (date:number of stores) pairs\n",
    "# Also save this as a dataframe format so that dates can be manipulated. \n",
    "NumStoresD={}\n",
    "for key in storesD:\n",
    "    NumStoresD[key]=len(storesD[key])\n",
    "NumStoresDF=pd.DataFrame(NumStoresD.items(),columns=['Date','NumStores'])"
   ]
  },
  {
   "cell_type": "code",
   "execution_count": 13,
   "metadata": {
    "collapsed": false
   },
   "outputs": [],
   "source": [
    "# Convert date from string to datetime datatype, then sort by date\n",
    "datesframe['Date']=pd.to_datetime(datesframe['Date'])\n",
    "NumStoresDF['Date']=pd.to_datetime(NumStoresDF['Date'])\n",
    "datesframe=datesframe.sort('Date')\n",
    "NumStoresDF=NumStoresDF.sort('Date')"
   ]
  },
  {
   "cell_type": "code",
   "execution_count": 14,
   "metadata": {
    "collapsed": false
   },
   "outputs": [
    {
     "data": {
      "text/html": [
       "<div>\n",
       "<table border=\"1\" class=\"dataframe\">\n",
       "  <thead>\n",
       "    <tr style=\"text-align: right;\">\n",
       "      <th></th>\n",
       "      <th>Date</th>\n",
       "      <th>numTrans</th>\n",
       "      <th>NumStores</th>\n",
       "      <th>NumTrans/PerStore</th>\n",
       "    </tr>\n",
       "  </thead>\n",
       "  <tbody>\n",
       "    <tr>\n",
       "      <th>0</th>\n",
       "      <td>2013-07-01</td>\n",
       "      <td>1791</td>\n",
       "      <td>11</td>\n",
       "      <td>162.818182</td>\n",
       "    </tr>\n",
       "    <tr>\n",
       "      <th>1</th>\n",
       "      <td>2013-07-02</td>\n",
       "      <td>1669</td>\n",
       "      <td>11</td>\n",
       "      <td>151.727273</td>\n",
       "    </tr>\n",
       "    <tr>\n",
       "      <th>2</th>\n",
       "      <td>2013-07-03</td>\n",
       "      <td>1763</td>\n",
       "      <td>11</td>\n",
       "      <td>160.272727</td>\n",
       "    </tr>\n",
       "    <tr>\n",
       "      <th>3</th>\n",
       "      <td>2013-07-04</td>\n",
       "      <td>714</td>\n",
       "      <td>11</td>\n",
       "      <td>64.909091</td>\n",
       "    </tr>\n",
       "    <tr>\n",
       "      <th>4</th>\n",
       "      <td>2013-07-05</td>\n",
       "      <td>1469</td>\n",
       "      <td>11</td>\n",
       "      <td>133.545455</td>\n",
       "    </tr>\n",
       "  </tbody>\n",
       "</table>\n",
       "</div>"
      ],
      "text/plain": [
       "        Date  numTrans  NumStores  NumTrans/PerStore\n",
       "0 2013-07-01      1791         11         162.818182\n",
       "1 2013-07-02      1669         11         151.727273\n",
       "2 2013-07-03      1763         11         160.272727\n",
       "3 2013-07-04       714         11          64.909091\n",
       "4 2013-07-05      1469         11         133.545455"
      ]
     },
     "execution_count": 14,
     "metadata": {},
     "output_type": "execute_result"
    }
   ],
   "source": [
    "# Merge dataframes, and create new column that shows an average/store\n",
    "pluginDF=pd.merge(datesframe,NumStoresDF, on='Date')\n",
    "pluginDF['NumTrans/PerStore']=pluginDF['numTrans']/pluginDF['NumStores']\n",
    "pluginDF.head(5)"
   ]
  },
  {
   "cell_type": "code",
   "execution_count": 16,
   "metadata": {
    "collapsed": false
   },
   "outputs": [],
   "source": [
    "# Save to output file as csv\n",
    "pluginDF.to_csv('PluginHOUJulDec2013.csv',index=False)\n",
    "# try to keep csv file name in same format as above (e.g. where letters are capitalized, date format, etc.)"
   ]
  }
 ],
 "metadata": {
  "kernelspec": {
   "display_name": "Python 2",
   "language": "python",
   "name": "python2"
  },
  "language_info": {
   "codemirror_mode": {
    "name": "ipython",
    "version": 2
   },
   "file_extension": ".py",
   "mimetype": "text/x-python",
   "name": "python",
   "nbconvert_exporter": "python",
   "pygments_lexer": "ipython2",
   "version": "2.7.10"
  }
 },
 "nbformat": 4,
 "nbformat_minor": 0
}

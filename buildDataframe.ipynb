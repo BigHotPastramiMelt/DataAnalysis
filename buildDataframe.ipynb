{
 "cells": [
  {
   "cell_type": "code",
   "execution_count": 27,
   "metadata": {
    "collapsed": false
   },
   "outputs": [
    {
     "data": {
      "text/plain": [
       "u'C:\\\\Users\\\\lhan3\\\\Desktop\\\\WCAI'"
      ]
     },
     "execution_count": 27,
     "metadata": {},
     "output_type": "execute_result"
    }
   ],
   "source": [
    "pwd"
   ]
  },
  {
   "cell_type": "code",
   "execution_count": 28,
   "metadata": {
    "collapsed": false
   },
   "outputs": [
    {
     "name": "stdout",
     "output_type": "stream",
     "text": [
      "C:\\Users\\lhan3\\Desktop\\WCAI\n"
     ]
    }
   ],
   "source": [
    "cd C:\\Users\\lhan3\\Desktop\\WCAI"
   ]
  },
  {
   "cell_type": "code",
   "execution_count": 30,
   "metadata": {
    "collapsed": false
   },
   "outputs": [],
   "source": [
    "import pandas as pd\n",
    "%matplotlib inline\n",
    "import matplotlib.pyplot as plt\n",
    "import numpy as np\n",
    "import pickle"
   ]
  },
  {
   "cell_type": "markdown",
   "metadata": {},
   "source": [
    "creating a Data Frame that contains Sum of each day, transactions count"
   ]
  },
  {
   "cell_type": "code",
   "execution_count": 31,
   "metadata": {
    "collapsed": false
   },
   "outputs": [],
   "source": [
    "# import dataset as an array\n",
    "chiarray=np.genfromtxt('chi2.csv', delimiter=\",\", names=True,dtype=None, usecols=(1, -1))"
   ]
  },
  {
   "cell_type": "code",
   "execution_count": 32,
   "metadata": {
    "collapsed": false
   },
   "outputs": [
    {
     "data": {
      "text/plain": [
       "7884150"
      ]
     },
     "execution_count": 32,
     "metadata": {},
     "output_type": "execute_result"
    }
   ],
   "source": [
    "len(chiarray)# number of rows (i.e. transactions)"
   ]
  },
  {
   "cell_type": "code",
   "execution_count": 33,
   "metadata": {
    "collapsed": false,
    "scrolled": false
   },
   "outputs": [
    {
     "data": {
      "text/plain": [
       "array(['01/01/2015', '01/02/2015', '01/03/2015', '01/04/2015',\n",
       "       '01/05/2015', '01/06/2015', '01/07/2015', '01/08/2015',\n",
       "       '01/09/2015', '01/10/2015', '01/11/2015', '01/12/2015',\n",
       "       '01/13/2015', '01/14/2015', '01/15/2015', '01/16/2015',\n",
       "       '01/17/2015', '01/18/2015', '01/19/2015', '01/20/2015',\n",
       "       '01/21/2015', '01/22/2015', '01/23/2015', '01/24/2015',\n",
       "       '01/25/2015', '01/26/2015', '01/27/2015', '01/28/2015',\n",
       "       '01/29/2015', '01/30/2015', '01/31/2015', '02/01/2015',\n",
       "       '02/02/2015', '02/03/2015', '02/04/2015', '02/05/2015',\n",
       "       '02/06/2015', '02/07/2015', '02/08/2015', '02/09/2015',\n",
       "       '02/10/2015', '02/11/2015', '02/12/2015', '02/13/2015',\n",
       "       '02/14/2015', '02/15/2015', '02/16/2015', '02/17/2015',\n",
       "       '02/18/2015', '02/19/2015', '02/20/2015', '02/21/2015',\n",
       "       '02/22/2015', '02/23/2015', '02/24/2015', '02/25/2015',\n",
       "       '02/26/2015', '02/27/2015', '02/28/2015', '03/01/2015',\n",
       "       '03/02/2015', '03/03/2015', '03/04/2015', '03/05/2015',\n",
       "       '03/06/2015', '03/07/2015', '03/08/2015', '03/09/2015',\n",
       "       '03/10/2015', '03/11/2015', '03/12/2015', '03/13/2015',\n",
       "       '03/14/2015', '03/15/2015', '03/16/2015', '03/17/2015',\n",
       "       '03/18/2015', '03/19/2015', '03/20/2015', '03/21/2015',\n",
       "       '03/22/2015', '03/23/2015', '03/24/2015', '03/25/2015',\n",
       "       '03/26/2015', '03/27/2015', '03/28/2015', '03/29/2015',\n",
       "       '03/30/2015', '03/31/2015'], \n",
       "      dtype='|S10')"
      ]
     },
     "execution_count": 33,
     "metadata": {},
     "output_type": "execute_result"
    }
   ],
   "source": [
    "dates=np.unique(chiarray['date']) #create an array that includes each day in the target timeframe \n",
    "dates"
   ]
  },
  {
   "cell_type": "code",
   "execution_count": 34,
   "metadata": {
    "collapsed": false
   },
   "outputs": [],
   "source": [
    "# Create dictionary that will contain date:some# pairs (e.g. some# = # total trans for that day)\n",
    "datesD={}\n",
    "for i in range(len(chiarray)):\n",
    "    if datesD.get(chiarray['date'][i],0)==0: \n",
    "        datesD[chiarray['date'][i]]=1\n",
    "    else:\n",
    "        datesD[chiarray['date'][i]]+=1"
   ]
  },
  {
   "cell_type": "code",
   "execution_count": 35,
   "metadata": {
    "collapsed": true
   },
   "outputs": [],
   "source": [
    "# Create dictionary data:summedValues (e.g. summedValues = total transaction amount for that day)"
   ]
  },
  {
   "cell_type": "code",
   "execution_count": 36,
   "metadata": {
    "collapsed": false
   },
   "outputs": [
    {
     "data": {
      "text/plain": [
       "\"\\nfor i in range(len(chi)): \\n    for j in range(len(dates)):\\n        if chi['date'][i]==dates[j]:\\n            df[0][j]+=chi['TaxAmount'][i]\\n            df[1][j]+=1\\n\""
      ]
     },
     "execution_count": 36,
     "metadata": {},
     "output_type": "execute_result"
    }
   ],
   "source": [
    "#go throgh all dates, and sum up the same date tax\n",
    "'''\n",
    "for i in range(len(chi)): \n",
    "    for j in range(len(dates)):\n",
    "        if chi['date'][i]==dates[j]:\n",
    "            df[0][j]+=chi['TaxAmount'][i]\n",
    "            df[1][j]+=1\n",
    "'''\n",
    "#### think there should be a better way to do this"
   ]
  },
  {
   "cell_type": "code",
   "execution_count": 37,
   "metadata": {
    "collapsed": false
   },
   "outputs": [],
   "source": [
    "# Convert dictionary to dataframe so we can manipulate dates \n",
    "datesframe=pd.DataFrame(datesD.items(),columns=['Date','numTrans'])"
   ]
  },
  {
   "cell_type": "code",
   "execution_count": 38,
   "metadata": {
    "collapsed": false
   },
   "outputs": [],
   "source": [
    "# Convert date from string to datetime datatype\n",
    "datesframe['Date']=pd.to_datetime(datesframe['Date'])"
   ]
  },
  {
   "cell_type": "code",
   "execution_count": 39,
   "metadata": {
    "collapsed": true
   },
   "outputs": [],
   "source": [
    "datesframe=datesframe.sort('Date')"
   ]
  },
  {
   "cell_type": "code",
   "execution_count": 40,
   "metadata": {
    "collapsed": false
   },
   "outputs": [
    {
     "data": {
      "text/html": [
       "<div>\n",
       "<table border=\"1\" class=\"dataframe\">\n",
       "  <thead>\n",
       "    <tr style=\"text-align: right;\">\n",
       "      <th></th>\n",
       "      <th>Date</th>\n",
       "      <th>numTrans</th>\n",
       "    </tr>\n",
       "  </thead>\n",
       "  <tbody>\n",
       "    <tr>\n",
       "      <th>78</th>\n",
       "      <td>2015-01-01</td>\n",
       "      <td>37879</td>\n",
       "    </tr>\n",
       "    <tr>\n",
       "      <th>73</th>\n",
       "      <td>2015-01-02</td>\n",
       "      <td>76209</td>\n",
       "    </tr>\n",
       "    <tr>\n",
       "      <th>58</th>\n",
       "      <td>2015-01-03</td>\n",
       "      <td>55999</td>\n",
       "    </tr>\n",
       "    <tr>\n",
       "      <th>12</th>\n",
       "      <td>2015-01-04</td>\n",
       "      <td>42279</td>\n",
       "    </tr>\n",
       "    <tr>\n",
       "      <th>86</th>\n",
       "      <td>2015-01-05</td>\n",
       "      <td>68616</td>\n",
       "    </tr>\n",
       "    <tr>\n",
       "      <th>77</th>\n",
       "      <td>2015-01-06</td>\n",
       "      <td>66890</td>\n",
       "    </tr>\n",
       "    <tr>\n",
       "      <th>79</th>\n",
       "      <td>2015-01-07</td>\n",
       "      <td>58967</td>\n",
       "    </tr>\n",
       "    <tr>\n",
       "      <th>56</th>\n",
       "      <td>2015-01-08</td>\n",
       "      <td>60445</td>\n",
       "    </tr>\n",
       "    <tr>\n",
       "      <th>5</th>\n",
       "      <td>2015-01-09</td>\n",
       "      <td>71043</td>\n",
       "    </tr>\n",
       "    <tr>\n",
       "      <th>85</th>\n",
       "      <td>2015-01-10</td>\n",
       "      <td>57013</td>\n",
       "    </tr>\n",
       "  </tbody>\n",
       "</table>\n",
       "</div>"
      ],
      "text/plain": [
       "         Date  numTrans\n",
       "78 2015-01-01     37879\n",
       "73 2015-01-02     76209\n",
       "58 2015-01-03     55999\n",
       "12 2015-01-04     42279\n",
       "86 2015-01-05     68616\n",
       "77 2015-01-06     66890\n",
       "79 2015-01-07     58967\n",
       "56 2015-01-08     60445\n",
       "5  2015-01-09     71043\n",
       "85 2015-01-10     57013"
      ]
     },
     "execution_count": 40,
     "metadata": {},
     "output_type": "execute_result"
    }
   ],
   "source": [
    "datesframe.head(10)"
   ]
  },
  {
   "cell_type": "code",
   "execution_count": 41,
   "metadata": {
    "collapsed": false
   },
   "outputs": [
    {
     "data": {
      "text/plain": [
       "'\\ndef aveTax(n, y): # create function that ask for n days, and the DF and spit out the average tax on n days\\n    x=sum(y[0:(n+1),0])/n\\n    print x\\n'"
      ]
     },
     "execution_count": 41,
     "metadata": {},
     "output_type": "execute_result"
    }
   ],
   "source": [
    "# Functions that do some type of calculation\n",
    "'''\n",
    "def aveTax(n, y): # create function that ask for n days, and the DF and spit out the average tax on n days\n",
    "    x=sum(y[0:(n+1),0])/n\n",
    "    print x\n",
    "'''"
   ]
  },
  {
   "cell_type": "code",
   "execution_count": 43,
   "metadata": {
    "collapsed": true
   },
   "outputs": [],
   "source": [
    "datesframe.to_csv('CHI2015numtrans.csv',index=False)"
   ]
  },
  {
   "cell_type": "code",
   "execution_count": null,
   "metadata": {
    "collapsed": true
   },
   "outputs": [],
   "source": []
  }
 ],
 "metadata": {
  "kernelspec": {
   "display_name": "Python 2",
   "language": "python",
   "name": "python2"
  },
  "language_info": {
   "codemirror_mode": {
    "name": "ipython",
    "version": 2
   },
   "file_extension": ".py",
   "mimetype": "text/x-python",
   "name": "python",
   "nbconvert_exporter": "python",
   "pygments_lexer": "ipython2",
   "version": "2.7.10"
  }
 },
 "nbformat": 4,
 "nbformat_minor": 0
}

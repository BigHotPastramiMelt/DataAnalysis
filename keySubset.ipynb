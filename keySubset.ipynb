{
 "cells": [
  {
   "cell_type": "code",
   "execution_count": null,
   "metadata": {
    "collapsed": false
   },
   "outputs": [],
   "source": [
    "import pandas as pd\n",
    "import numpy as np"
   ]
  },
  {
   "cell_type": "code",
   "execution_count": null,
   "metadata": {
    "collapsed": true
   },
   "outputs": [],
   "source": [
    "#retrieve codes and turn into list\n",
    "data = pd.read_csv(\"C:\\\\Users\\\\patrick.carey\\\\Desktop\\\\wcai\\\\pos_ordersale_Chi_CITY.csv\")\n",
    "store_restaurant.head()"
   ]
  },
  {
   "cell_type": "code",
   "execution_count": null,
   "metadata": {
    "collapsed": true
   },
   "outputs": [],
   "source": [
    "#retrieve chicago FAF codes and turn into list\n",
    "Chicago_codes = store_restaurant.loc[store_restaurant['FAF_MKT_NM'] == 'CHICAGO']\n",
    "Chicago_FAF_codes = Chicago_FAF[\"STORE_NUMBER\"]\n",
    "Chicago_FAF_codes = list(Chicago_FAF_codes)"
   ]
  },
  {
   "cell_type": "code",
   "execution_count": null,
   "metadata": {
    "collapsed": true
   },
   "outputs": [],
   "source": [
    "#subset with key file\n",
    "\n",
    "with open(\"C:\\\\Users\\\\patrick.carey\\\\Desktop\\\\wcai\\\\pos_ordersale_FAF_CHICAGO.csv\", 'r') as k:\n",
    "    keys = []\n",
    "    kLine = k.readline()\n",
    "    kLineList = kLine.split(\",\")\n",
    "    keyCol = kLineList.index(\"MD5KEY_ORDERSALE\")\n",
    "    kLine = k.readline()\n",
    "    while kLine:\n",
    "        kLineList = kLine.split(\",\")\n",
    "        key = kLineList[keyCol]\n",
    "        keys.append(key)\n",
    "        kLine = k.readline()\n",
    "    with open(\"C:\\\\Users\\\\patrick.carey\\\\Desktop\\\\wcai\\\\pos_payment.csv\", 'r') as f: \n",
    "        with open(\"C:\\\\Users\\\\patrick.carey\\\\Desktop\\\\wcai\\\\pos_payment_Chi_2014.csv\", \"a\") as newf: #creates file to write to\n",
    "            line = f.readline() \n",
    "            lineList = line.split(\",\")\n",
    "            keyCol = lineList.index(\"MD5KEY_ORDERSALE\")\n",
    "            newf.write(line) #write variable headings to new file\n",
    "            while line:\n",
    "                if lineList[keyCol] in keys:\n",
    "                    newf.write(line)\n",
    "                line=f.readline()\n",
    "                lineList=line.split(\",\")\n",
    "                            "
   ]
  },
  {
   "cell_type": "code",
   "execution_count": null,
   "metadata": {
    "collapsed": true
   },
   "outputs": [],
   "source": []
  }
 ],
 "metadata": {
  "kernelspec": {
   "display_name": "Python 3",
   "language": "python",
   "name": "python3"
  },
  "language_info": {
   "codemirror_mode": {
    "name": "ipython",
    "version": 3
   },
   "file_extension": ".py",
   "mimetype": "text/x-python",
   "name": "python",
   "nbconvert_exporter": "python",
   "pygments_lexer": "ipython3",
   "version": "3.5.1"
  }
 },
 "nbformat": 4,
 "nbformat_minor": 0
}

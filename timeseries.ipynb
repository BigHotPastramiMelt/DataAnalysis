{
 "cells": [
  {
   "cell_type": "code",
   "execution_count": 1,
   "metadata": {
    "collapsed": false
   },
   "outputs": [
    {
     "data": {
      "text/plain": [
       "u'C:\\\\Anaconda2'"
      ]
     },
     "execution_count": 1,
     "metadata": {},
     "output_type": "execute_result"
    }
   ],
   "source": [
    "pwd"
   ]
  },
  {
   "cell_type": "code",
   "execution_count": 2,
   "metadata": {
    "collapsed": false
   },
   "outputs": [
    {
     "name": "stdout",
     "output_type": "stream",
     "text": [
      "C:\\Users\\lhan3\\Desktop\\WCAI\n"
     ]
    }
   ],
   "source": [
    "cd C:\\Users\\lhan3\\Desktop\\WCAI"
   ]
  },
  {
   "cell_type": "code",
   "execution_count": 4,
   "metadata": {
    "collapsed": false
   },
   "outputs": [],
   "source": [
    "import pandas as pd\n",
    "%matplotlib inline\n",
    "import matplotlib.pyplot as plt\n",
    "import numpy as np"
   ]
  },
  {
   "cell_type": "code",
   "execution_count": 15,
   "metadata": {
    "collapsed": false
   },
   "outputs": [],
   "source": [
    "dateparse=lambda dates: pd.datetime.strptime(dates, '%Y-%m-%d')\n",
    "data=pd.read_csv('CHI2015numtrans.csv', parse_dates='Date', index_col='Date', date_parser=dateparse)"
   ]
  },
  {
   "cell_type": "code",
   "execution_count": 16,
   "metadata": {
    "collapsed": false,
    "scrolled": true
   },
   "outputs": [
    {
     "data": {
      "text/html": [
       "<div>\n",
       "<table border=\"1\" class=\"dataframe\">\n",
       "  <thead>\n",
       "    <tr style=\"text-align: right;\">\n",
       "      <th></th>\n",
       "      <th>numTrans</th>\n",
       "    </tr>\n",
       "    <tr>\n",
       "      <th>Date</th>\n",
       "      <th></th>\n",
       "    </tr>\n",
       "  </thead>\n",
       "  <tbody>\n",
       "    <tr>\n",
       "      <th>2015-01-01</th>\n",
       "      <td>37879</td>\n",
       "    </tr>\n",
       "    <tr>\n",
       "      <th>2015-01-02</th>\n",
       "      <td>76209</td>\n",
       "    </tr>\n",
       "    <tr>\n",
       "      <th>2015-01-03</th>\n",
       "      <td>55999</td>\n",
       "    </tr>\n",
       "    <tr>\n",
       "      <th>2015-01-04</th>\n",
       "      <td>42279</td>\n",
       "    </tr>\n",
       "    <tr>\n",
       "      <th>2015-01-05</th>\n",
       "      <td>68616</td>\n",
       "    </tr>\n",
       "  </tbody>\n",
       "</table>\n",
       "</div>"
      ],
      "text/plain": [
       "            numTrans\n",
       "Date                \n",
       "2015-01-01     37879\n",
       "2015-01-02     76209\n",
       "2015-01-03     55999\n",
       "2015-01-04     42279\n",
       "2015-01-05     68616"
      ]
     },
     "execution_count": 16,
     "metadata": {},
     "output_type": "execute_result"
    }
   ],
   "source": [
    "data.head()"
   ]
  },
  {
   "cell_type": "code",
   "execution_count": 17,
   "metadata": {
    "collapsed": false
   },
   "outputs": [
    {
     "data": {
      "text/plain": [
       "numTrans    int64\n",
       "dtype: object"
      ]
     },
     "execution_count": 17,
     "metadata": {},
     "output_type": "execute_result"
    }
   ],
   "source": [
    "data.dtypes"
   ]
  },
  {
   "cell_type": "code",
   "execution_count": 18,
   "metadata": {
    "collapsed": false,
    "scrolled": true
   },
   "outputs": [
    {
     "data": {
      "text/plain": [
       "DatetimeIndex(['2015-01-01', '2015-01-02', '2015-01-03', '2015-01-04',\n",
       "               '2015-01-05', '2015-01-06', '2015-01-07', '2015-01-08',\n",
       "               '2015-01-09', '2015-01-10', '2015-01-11', '2015-01-12',\n",
       "               '2015-01-13', '2015-01-14', '2015-01-15', '2015-01-16',\n",
       "               '2015-01-17', '2015-01-18', '2015-01-19', '2015-01-20',\n",
       "               '2015-01-21', '2015-01-22', '2015-01-23', '2015-01-24',\n",
       "               '2015-01-25', '2015-01-26', '2015-01-27', '2015-01-28',\n",
       "               '2015-01-29', '2015-01-30', '2015-01-31', '2015-02-01',\n",
       "               '2015-02-02', '2015-02-03', '2015-02-04', '2015-02-05',\n",
       "               '2015-02-06', '2015-02-07', '2015-02-08', '2015-02-09',\n",
       "               '2015-02-10', '2015-02-11', '2015-02-12', '2015-02-13',\n",
       "               '2015-02-14', '2015-02-15', '2015-02-16', '2015-02-17',\n",
       "               '2015-02-18', '2015-02-19', '2015-02-20', '2015-02-21',\n",
       "               '2015-02-22', '2015-02-23', '2015-02-24', '2015-02-25',\n",
       "               '2015-02-26', '2015-02-27', '2015-02-28', '2015-03-01',\n",
       "               '2015-03-02', '2015-03-03', '2015-03-04', '2015-03-05',\n",
       "               '2015-03-06', '2015-03-07', '2015-03-08', '2015-03-09',\n",
       "               '2015-03-10', '2015-03-11', '2015-03-12', '2015-03-13',\n",
       "               '2015-03-14', '2015-03-15', '2015-03-16', '2015-03-17',\n",
       "               '2015-03-18', '2015-03-19', '2015-03-20', '2015-03-21',\n",
       "               '2015-03-22', '2015-03-23', '2015-03-24', '2015-03-25',\n",
       "               '2015-03-26', '2015-03-27', '2015-03-28', '2015-03-29',\n",
       "               '2015-03-30', '2015-03-31'],\n",
       "              dtype='datetime64[ns]', name=u'Date', freq=None, tz=None)"
      ]
     },
     "execution_count": 18,
     "metadata": {},
     "output_type": "execute_result"
    }
   ],
   "source": [
    "data.index"
   ]
  },
  {
   "cell_type": "code",
   "execution_count": null,
   "metadata": {
    "collapsed": true
   },
   "outputs": [],
   "source": []
  }
 ],
 "metadata": {
  "kernelspec": {
   "display_name": "Python 2",
   "language": "python",
   "name": "python2"
  },
  "language_info": {
   "codemirror_mode": {
    "name": "ipython",
    "version": 2
   },
   "file_extension": ".py",
   "mimetype": "text/x-python",
   "name": "python",
   "nbconvert_exporter": "python",
   "pygments_lexer": "ipython2",
   "version": "2.7.10"
  }
 },
 "nbformat": 4,
 "nbformat_minor": 0
}
